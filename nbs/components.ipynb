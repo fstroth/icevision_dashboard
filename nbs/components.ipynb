{
 "cells": [
  {
   "cell_type": "code",
   "execution_count": null,
   "metadata": {},
   "outputs": [],
   "source": [
    "# default_exp components"
   ]
  },
  {
   "cell_type": "markdown",
   "metadata": {},
   "source": [
    "# Components\n",
    "\n",
    "> Supplies components that can be combinded into a dashboard or used standalone."
   ]
  },
  {
   "cell_type": "code",
   "execution_count": null,
   "metadata": {},
   "outputs": [],
   "source": [
    "#export\n",
    "from typing import Optional, Union\n",
    "\n",
    "from icevision.core.class_map import ClassMap\n",
    "\n",
    "import panel as pn\n",
    "import panel.widgets as pnw\n",
    "from bokeh.plotting import figure\n",
    "import numpy as np\n",
    "import pandas as pd\n",
    "\n",
    "from icevision_dashboard.utils import *"
   ]
  },
  {
   "cell_type": "code",
   "execution_count": null,
   "metadata": {},
   "outputs": [],
   "source": [
    "pn.extension()"
   ]
  },
  {
   "cell_type": "markdown",
   "metadata": {},
   "source": [
    "## Test data setup"
   ]
  },
  {
   "cell_type": "code",
   "execution_count": null,
   "metadata": {},
   "outputs": [],
   "source": [
    "import icedata"
   ]
  },
  {
   "cell_type": "code",
   "execution_count": null,
   "metadata": {},
   "outputs": [],
   "source": [
    "test_data_dir = icedata.fridge.load_data()\n",
    "test_class_map = icedata.fridge.class_map()\n",
    "test_parser = icedata.fridge.parser(test_data_dir, test_class_map)\n",
    "test_train_records, test_valid_records = test_parser.parse()"
   ]
  },
  {
   "cell_type": "code",
   "execution_count": null,
   "metadata": {},
   "outputs": [],
   "source": [
    "test_record_stats = aggregate_record_data(test_valid_records)\n",
    "test_record_stats = pd.DataFrame(test_record_stats)"
   ]
  },
  {
   "cell_type": "markdown",
   "metadata": {},
   "source": [
    "## Gallery"
   ]
  },
  {
   "cell_type": "code",
   "execution_count": null,
   "metadata": {},
   "outputs": [],
   "source": [
    "#export\n",
    "def gallery(\n",
    "    records,\n",
    "    class_map: Optional[ClassMap] = None,\n",
    "    display_label: bool = True,\n",
    "    display_bbox: bool = True,\n",
    "    display_mask: bool = True,\n",
    "    display_keypoints: bool = True,\n",
    "    width=None,\n",
    "    height=None\n",
    "):\n",
    "    \"\"\"Shows a gallery for a list of records.\"\"\"\n",
    "    # gui\n",
    "    btn_prev = pnw.Button(name=\"<\")\n",
    "    btn_next = pnw.Button(name=\">\")\n",
    "    current = pnw.TextInput(value=\"1\")\n",
    "    overall = pn.Row(\"/\" + str(len(records)))\n",
    "    gui = pn.Row(btn_prev, current, overall, btn_next, align=\"center\", height=50)\n",
    "    \n",
    "    # plotting function\n",
    "    @pn.depends(current.param.value)\n",
    "    def _plot(_):\n",
    "        nonlocal current\n",
    "        try:\n",
    "            index = int(current.value) - 1\n",
    "        except:\n",
    "            pass\n",
    "        img  = draw_record_with_bokeh(\n",
    "            record=records[index],\n",
    "            class_map=class_map,\n",
    "            display_label=display_label,\n",
    "            display_bbox=display_bbox,\n",
    "            display_mask=display_mask,\n",
    "            display_keypoints=display_keypoints,\n",
    "            return_figure=True,\n",
    "            width=width,\n",
    "            height=height-50 if height is not None else height\n",
    "        )\n",
    "        return img\n",
    "    \n",
    "    # add interactions\n",
    "    def _next(_):\n",
    "        nonlocal current\n",
    "        nonlocal records\n",
    "        try:\n",
    "            index = int(current.value)\n",
    "            if index == len(records):\n",
    "                index = 1\n",
    "            else:\n",
    "                index += 1\n",
    "            current.value = str(index)\n",
    "        except:\n",
    "            pass\n",
    "        \n",
    "            \n",
    "    def _previous(_):\n",
    "        nonlocal current\n",
    "        nonlocal records\n",
    "        try:\n",
    "            index = int(current.value)\n",
    "            if index == 1:\n",
    "                index = len(records)\n",
    "            else:\n",
    "                index -= 1\n",
    "            current.value = str(index)\n",
    "        except:\n",
    "            pass\n",
    "        \n",
    "    btn_prev.on_click(_previous)\n",
    "    btn_next.on_click(_next)\n",
    "    \n",
    "    return pn.Column(gui, pn.Row(_plot, align=\"center\"))"
   ]
  },
  {
   "cell_type": "code",
   "execution_count": null,
   "metadata": {},
   "outputs": [],
   "source": [
    "gallery(test_valid_records, height=500)"
   ]
  },
  {
   "cell_type": "markdown",
   "metadata": {},
   "source": [
    "## Class histogram"
   ]
  },
  {
   "cell_type": "code",
   "execution_count": null,
   "metadata": {},
   "outputs": [],
   "source": [
    "#export\n",
    "def barplot_class_occurance(record_stats, class_map=None, width=500, height=500):\n",
    "    \"\"\"Creates a barplot of the class occurances.\"\"\"\n",
    "    result = record_stats.groupby(\"label\").count()[\"id\"]\n",
    "    counts, values = result.values, result.index.tolist()\n",
    "    # sort result in decending order\n",
    "    fig = barplot(counts, values, class_map=class_map, width=width, height=height)\n",
    "    return pn.Column(fig)"
   ]
  },
  {
   "cell_type": "code",
   "execution_count": null,
   "metadata": {},
   "outputs": [],
   "source": [
    "barplot_class_occurance(test_record_stats)"
   ]
  },
  {
   "cell_type": "markdown",
   "metadata": {},
   "source": [
    "## Area histogram"
   ]
  },
  {
   "cell_type": "code",
   "execution_count": null,
   "metadata": {},
   "outputs": [],
   "source": [
    "#export\n",
    "def area_histogram(record_stats, class_label, class_map=None, bins=10, normalized=False, density=False, range=None, width=500, height=500):\n",
    "    \"\"\"Creates a histogram for a given class_label from record_stats.\"\"\"\n",
    "    if normalized:\n",
    "        df_col = \"area_normalized\"\n",
    "        x_label = \"Area (normalized)\"\n",
    "    else:\n",
    "        df_col = \"area\"\n",
    "        x_label = \"Area\"\n",
    "    if class_map is not None:\n",
    "        key = class_map.get_id(class_label)\n",
    "        title = f\"{class_map.get_id(class_label)}: {record_stats[record_stats['label'] == class_label].size} objects\"\n",
    "    else:\n",
    "        title = f\"{class_label}: {record_stats[record_stats['label'] == class_label].size} objects\"   \n",
    "    \n",
    "    p = figure(width=width, height=height, x_axis_label = x_label, y_axis_label = \"No. annotations\", title=title)\n",
    "    p = histogram(record_stats[record_stats[\"label\"] == class_label][df_col].values, density=density, bins=bins, range=range, plot_figure=p, width=500, height=500)\n",
    "    return p"
   ]
  },
  {
   "cell_type": "code",
   "execution_count": null,
   "metadata": {},
   "outputs": [],
   "source": [
    "pn.Row(area_histogram(test_record_stats, 1, test_class_map, range=(0, 45000), bins=20, density=True))"
   ]
  },
  {
   "cell_type": "code",
   "execution_count": null,
   "metadata": {},
   "outputs": [],
   "source": [
    "#export\n",
    "def comparison_histogram_with_gui(record_stats_list, hist_func, class_map=None, width=500, height=500):\n",
    "    \"\"\"Creates histograms for a list of record_stats and a histogram function (based on the histogram function from utils) with a full gui to customize the histogram parameters. \n",
    "    The hist function must have the following call head: (record_stats, class_label, class_map, bins, normalized, density, range, width, height)\"\"\"\n",
    "    # gui\n",
    "    # remove the first entry from the class_map, because the background class is not explicit part of the annotaitons\n",
    "    unique_labels = sorted(pd.unique(record_stats_list[0][\"label\"]))\n",
    "    for record_stats in record_stats_list[1:]:\n",
    "        if not all(pd.unique(sorted(record_stats[\"label\"])) == unique_labels):\n",
    "            raise ValueError(\"All dataframes in the records_stats_list need to have the same set of unique values.\")\n",
    "    options = pd.unique(record_stats_list[0][\"label\"])\n",
    "    options.sort()\n",
    "    if class_map is not None:\n",
    "        options = np.vectorize(class_map.get_id)(options)\n",
    "    class_dropdown = pnw.Select(options=options.tolist())\n",
    "    \n",
    "    bins_slider = pnw.IntSlider(name=\"Bins\", start=10, end=100, step=5)\n",
    "    checkbox_normalized = pnw.Checkbox(name=\"Normalized\", value=False)\n",
    "    checkbox_density = pnw.Checkbox(name=\"Density\", value=False)\n",
    "    \n",
    "    range_min = int(min(record_stats[\"area\"].min() for record_stats in record_stats_list))\n",
    "    range_max = int(max(record_stats[\"area\"].max() for record_stats in record_stats_list))\n",
    "    steps = (range_max-range_min)/50\n",
    "    range_slider = pnw.RangeSlider(name=\"Range\", start=range_min, end=range_max, step=steps)\n",
    "    \n",
    "    @pn.depends(class_dropdown.param.value, bins_slider.param.value, checkbox_normalized.param.value, checkbox_density.param.value, range_slider.param.value)\n",
    "    def _draw_histogram(class_label, bins, normalized, density, range):\n",
    "        nonlocal class_map\n",
    "        nonlocal width\n",
    "        nonlocal height\n",
    "        nonlocal record_stats_list\n",
    "        class_label = class_label if class_map is None else class_map.get_name(class_label)\n",
    "        # make the range slider dynamic with respect to the normalization\n",
    "        if normalized:\n",
    "            if range_slider.end != 1:\n",
    "                old_slider_end = range_slider.end\n",
    "                old_slider_start = range_slider.start\n",
    "                range_slider.start = 0\n",
    "                range_slider.end = 1\n",
    "                range_slider.step = 1/50\n",
    "                range_slider.value = ((range_slider.value[0]-old_slider_start)/(old_slider_end-old_slider_start), (range_slider.value[1]-old_slider_start)/(old_slider_end-old_slider_start))\n",
    "                range = range_slider.value\n",
    "        else:\n",
    "            if range_slider.end != int(max(record_stats[\"area\"].max() for record_stats in record_stats_list)):\n",
    "                range_slider.start = int(min(record_stats[\"area\"].min() for record_stats in record_stats_list))\n",
    "                range_slider.end = int(max(record_stats[\"area\"].max() for record_stats in record_stats_list))\n",
    "                range_slider.step = (range_max-range_min)/50\n",
    "                range_slider.value = ((range_slider.value[0]*(range_slider.end-range_slider.start))+range_slider.start, (range_slider.value[1]*(range_slider.end-range_slider.start))+range_slider.start)\n",
    "                range = range_slider.value\n",
    "        return pn.Row(*[hist_func(record_stats, class_label, class_map=class_map, bins=bins, normalized=normalized, density=density, range=range, width=width, height=height) for record_stats in record_stats_list])\n",
    "    \n",
    "    return pn.Column(class_dropdown, pn.Row(bins_slider, checkbox_normalized), pn.Row(range_slider, checkbox_density), _draw_histogram)"
   ]
  },
  {
   "cell_type": "code",
   "execution_count": null,
   "metadata": {},
   "outputs": [],
   "source": [
    "comparison_histogram_with_gui([test_record_stats, test_record_stats, test_record_stats], area_histogram, test_class_map)"
   ]
  },
  {
   "cell_type": "code",
   "execution_count": null,
   "metadata": {},
   "outputs": [],
   "source": []
  }
 ],
 "metadata": {
  "kernelspec": {
   "display_name": "Python 3",
   "language": "python",
   "name": "python3"
  }
 },
 "nbformat": 4,
 "nbformat_minor": 4
}
