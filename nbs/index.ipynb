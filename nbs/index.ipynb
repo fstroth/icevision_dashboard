{
 "cells": [
  {
   "cell_type": "markdown",
   "metadata": {},
   "source": [
    "# IceVisionDashboard"
   ]
  },
  {
   "cell_type": "markdown",
   "metadata": {},
   "source": [
    "IceVisionDashboard is an extension to the [IceVision](https://github.com/airctic/icevision) object detection framework. This extension provides three things: \n",
    "    \n",
    "- `utils`: Utility functions to create plots and aggregate data.\n",
    "- `components`: Plots and functions that can be used as components of a dashboard.\n",
    "- `dashboards`: Dashboards that can be used out of the box the gain insights into datasets and trainings."
   ]
  },
  {
   "cell_type": "markdown",
   "metadata": {},
   "source": [
    "# Contributing\n",
    "\n",
    "If you want to contribute add the following lines to your `pre-commit` file to ensure the notebook cell output don't get pushed into the repo.\n",
    "\n",
    "```bash\n",
    "# ensure the oupt of the notebooks is empty\n",
    "jupyter nbconvert --ClearOutputPreprocessor.enabled=True --inplace nbs/*.ipynb\n",
    "git add .\n",
    "```"
   ]
  },
  {
   "cell_type": "code",
   "execution_count": null,
   "metadata": {},
   "outputs": [],
   "source": []
  }
 ],
 "metadata": {
  "kernelspec": {
   "display_name": "Python 3",
   "language": "python",
   "name": "python3"
  }
 },
 "nbformat": 4,
 "nbformat_minor": 4
}
